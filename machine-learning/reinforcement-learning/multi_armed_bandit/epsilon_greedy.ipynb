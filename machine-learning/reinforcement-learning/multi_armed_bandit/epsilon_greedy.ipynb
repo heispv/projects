{
  "nbformat": 4,
  "nbformat_minor": 0,
  "metadata": {
    "colab": {
      "name": "epsilon_greedy.ipynb",
      "provenance": [],
      "collapsed_sections": [],
      "authorship_tag": "ABX9TyPcjGA3lBfYcKLHxqX+Ddo5"
    },
    "kernelspec": {
      "name": "python3",
      "display_name": "Python 3"
    },
    "language_info": {
      "name": "python"
    }
  },
  "cells": [
    {
      "cell_type": "code",
      "source": [
        "import matplotlib.pyplot as plt\n",
        "import numpy as np"
      ],
      "metadata": {
        "id": "2JSGjmhsVmUo"
      },
      "execution_count": 149,
      "outputs": []
    },
    {
      "cell_type": "code",
      "source": [
        "NUM_TRIALS = 100000\n",
        "EPS = 0.1\n",
        "BANDIT_PROBABILITIES = [0.2, 0.5, 0.75]"
      ],
      "metadata": {
        "id": "jrYr2hNdVqRk"
      },
      "execution_count": 179,
      "outputs": []
    },
    {
      "cell_type": "code",
      "source": [
        "class Bandit:\n",
        "  def __init__(self, p):\n",
        "    # p: the win rate\n",
        "    self.p = p\n",
        "    self.p_estimate = 0.\n",
        "    self.N = 0.\n",
        "\n",
        "  def pull(self):\n",
        "    # draw a 1 with probability p\n",
        "    return np.random.random() < self.p\n",
        "  \n",
        "  def update(self, x):\n",
        "    self.N += 1\n",
        "    self.p_estimate = self.p_estimate + (1 / self.N) * (x - self.p_estimate)"
      ],
      "metadata": {
        "id": "X1nlFWSCV0CE"
      },
      "execution_count": 180,
      "outputs": []
    },
    {
      "cell_type": "code",
      "source": [
        "def experiment():\n",
        "  bandits = [Bandit(p) for p in BANDIT_PROBABILITIES]\n",
        "  rewards = np.zeros(NUM_TRIALS)\n",
        "  num_times_explored = 0\n",
        "  num_times_exploited = 0\n",
        "  num_optimal = 0\n",
        "  optimal_j = np.argmax([b.p for b in bandits])\n",
        "  print(\"optimal j: \", optimal_j)\n",
        "\n",
        "  for i in range(NUM_TRIALS):\n",
        "\n",
        "    # Use epsilon greedy to select the next bandit\n",
        "    if np.random.random() < EPS / (np.log(i+10)):\n",
        "      num_times_explored += 1\n",
        "      j = np.random.choice(range(len(bandits)))\n",
        "    else:\n",
        "      num_times_exploited += 1\n",
        "      j = np.argmax([b.p_estimate for b in bandits])\n",
        "    \n",
        "    if j == optimal_j:\n",
        "      num_optimal += 1\n",
        "    \n",
        "\n",
        "    # Pull the arm for the bandit with the largest sample\n",
        "    x = bandits[j].pull()\n",
        "\n",
        "    # Update the reward log\n",
        "    rewards[i] = x\n",
        "\n",
        "    # Update the distribution for the bandit whose arm we just pulled\n",
        "    bandits[j].update(x)\n",
        "\n",
        "\n",
        "  # Print mean estimates for each bandit\n",
        "  for b in bandits:\n",
        "    print(\"mean estimate: \", b.p_estimate)\n",
        "  \n",
        "  # Print total reward\n",
        "  print(\"total reward earned:\", rewards.sum())\n",
        "  print(\"overall win rate:\", rewards.sum() / NUM_TRIALS)\n",
        "  print(\"num_times_explored:\", num_times_explored)\n",
        "  print(\"num_times_exploited:\", num_times_exploited)\n",
        "  print(\"num times selected optimal bandit:\", num_optimal)\n",
        "\n",
        "  # plot the results\n",
        "  cumulative_rewards = np.cumsum(rewards)\n",
        "  win_rates = cumulative_rewards / (np.arange(NUM_TRIALS) + 1)\n",
        "  plt.plot(win_rates)\n",
        "  plt.plot(np.ones(NUM_TRIALS)*np.max(BANDIT_PROBABILITIES))\n",
        "  plt.show()"
      ],
      "metadata": {
        "id": "Y2xuwJurYMrD"
      },
      "execution_count": 195,
      "outputs": []
    },
    {
      "cell_type": "code",
      "source": [
        "experiment()"
      ],
      "metadata": {
        "colab": {
          "base_uri": "https://localhost:8080/",
          "height": 421
        },
        "id": "7e3UNxExYk-t",
        "outputId": "4882eaad-59f0-4671-8ae4-9b86dc1f7bfd"
      },
      "execution_count": 196,
      "outputs": [
        {
          "output_type": "stream",
          "name": "stdout",
          "text": [
            "optimal j:  2\n",
            "mean estimate:  0.17516629711751666\n",
            "mean estimate:  0.4776536312849162\n",
            "mean estimate:  0.7485961166816789\n",
            "total reward earned: 74407.0\n",
            "overall win rate: 0.74407\n",
            "num_times_explored: 943\n",
            "num_times_exploited: 99057\n",
            "num times selected optimal bandit: 98833\n"
          ]
        },
        {
          "output_type": "display_data",
          "data": {
            "text/plain": [
              "<Figure size 432x288 with 1 Axes>"
            ],
            "image/png": "[encoded data removed]"
          },
          "metadata": {
            "needs_background": "light"
          }
        }
      ]
    }
  ]
}
