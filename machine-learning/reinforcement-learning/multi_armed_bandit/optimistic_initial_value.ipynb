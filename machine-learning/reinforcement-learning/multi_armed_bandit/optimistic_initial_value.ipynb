{
  "nbformat": 4,
  "nbformat_minor": 0,
  "metadata": {
    "colab": {
      "name": "optimistic_initial_values.ipynb",
      "provenance": [],
      "collapsed_sections": [],
      "authorship_tag": "ABX9TyOVH2KYwaH8CIZ0kYUAIvXc"
    },
    "kernelspec": {
      "name": "python3",
      "display_name": "Python 3"
    },
    "language_info": {
      "name": "python"
    }
  },
  "cells": [
    {
      "cell_type": "code",
      "execution_count": 1,
      "metadata": {
        "id": "Wwi6il0LJdVl"
      },
      "outputs": [],
      "source": [
        "import matplotlib.pyplot as plt\n",
        "import numpy as np"
      ]
    },
    {
      "cell_type": "code",
      "source": [
        "NUM_TRIALS = 10000\n",
        "BANDIT_PROBABILITIES = [0.23, 0.6, 0.79]"
      ],
      "metadata": {
        "id": "u6UkG6HPJoGo"
      },
      "execution_count": 90,
      "outputs": []
    },
    {
      "cell_type": "code",
      "source": [
        "class Bandit:\n",
        "  def __init__(self, p):\n",
        "    self.p = p # it's the true values of the probability which we actually don't know\n",
        "    self.p_estimate = 10 # it's a large number (hyperparameter) which our exploration depend on\n",
        "    self.N = 0\n",
        "  \n",
        "  def pull(self):\n",
        "    return np.random.random() < self.p\n",
        "  \n",
        "  def update(self, x):\n",
        "    self.N += 1\n",
        "    self.p_estimate = ((self.p_estimate * self.N) + x) / (self.N + 1)\n",
        "  \n",
        "  "
      ],
      "metadata": {
        "id": "lYIID1fCJx4S"
      },
      "execution_count": 91,
      "outputs": []
    },
    {
      "cell_type": "code",
      "source": [
        "def experiment():\n",
        "  bandits = [Bandit(p) for p in BANDIT_PROBABILITIES]\n",
        "  rewards = np.zeros(NUM_TRIALS)\n",
        "\n",
        "  for i in range(NUM_TRIALS):\n",
        "    \n",
        "    # use optimistic initial values to select the next bandit\n",
        "    j = np.argmax([b.p_estimate for b in bandits])\n",
        "\n",
        "    # Pull the arm for the bandit with the largest p_estimate\n",
        "    x = bandits[j].pull()\n",
        "\n",
        "    # Update the rewards log\n",
        "    rewards[i] = x\n",
        "\n",
        "    # Update the bandit's information which we just pulled\n",
        "    bandits[j].update(x)\n",
        "  \n",
        "  # print mean estimates for each bandit\n",
        "  for b in bandits:\n",
        "    print(\"mean estimate:\", b.p_estimate)\n",
        "\n",
        "  # print total reward\n",
        "  print(\"total reward earned:\", rewards.sum())\n",
        "  print(\"overall win rate:\", rewards.sum() / NUM_TRIALS)\n",
        "  print(\"num times selected each bandit:\", [b.N for b in bandits])\n",
        "\n",
        "  # plot the results\n",
        "  cumulative_rewards = np.cumsum(rewards)\n",
        "  win_rates = cumulative_rewards / (np.arange(NUM_TRIALS) + 1)\n",
        "  plt.ylim([0, 1])\n",
        "  plt.plot(win_rates)\n",
        "  plt.plot(np.ones(NUM_TRIALS)*np.max(BANDIT_PROBABILITIES))\n",
        "  plt.show()"
      ],
      "metadata": {
        "id": "hQ921mjrNrCk"
      },
      "execution_count": 92,
      "outputs": []
    },
    {
      "cell_type": "code",
      "source": [
        "experiment()"
      ],
      "metadata": {
        "colab": {
          "base_uri": "https://localhost:8080/",
          "height": 373
        },
        "id": "aRfEPTBfPrt8",
        "outputId": "50b5ca96-2c08-44d0-f3ad-36ac1b31cf3c"
      },
      "execution_count": 93,
      "outputs": [
        {
          "output_type": "stream",
          "name": "stdout",
          "text": [
            "mean estimate: 0.782608695652174\n",
            "mean estimate: 0.7826086956521741\n",
            "mean estimate: 0.7978659150392593\n",
            "total reward earned: 7950.0\n",
            "overall win rate: 0.795\n",
            "num times selected each bandit: [22, 45, 9933]\n"
          ]
        },
        {
          "output_type": "display_data",
          "data": {
            "text/plain": [
              "<Figure size 432x288 with 1 Axes>"
            ],
            "image/png": "[encoded data removed]"
          },
          "metadata": {
            "needs_background": "light"
          }
        }
      ]
    }
  ]
}
