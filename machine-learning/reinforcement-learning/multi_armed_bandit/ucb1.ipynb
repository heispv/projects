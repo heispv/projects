{
  "nbformat": 4,
  "nbformat_minor": 0,
  "metadata": {
    "colab": {
      "name": "UCB1.ipynb",
      "provenance": [],
      "authorship_tag": "ABX9TyM3ruN5GF+F2/7k75uvwh2q"
    },
    "kernelspec": {
      "name": "python3",
      "display_name": "Python 3"
    },
    "language_info": {
      "name": "python"
    }
  },
  "cells": [
    {
      "cell_type": "code",
      "execution_count": 1,
      "metadata": {
        "id": "xZvBSL0svGBG"
      },
      "outputs": [],
      "source": [
        "import matplotlib.pyplot as plt\n",
        "import numpy as np"
      ]
    },
    {
      "cell_type": "code",
      "source": [
        "NUM_TRIALS = 10000\n",
        "EPS = 0.1\n",
        "BANDIT_PROBABILITIES = [0.15, 0.8, 0.83]"
      ],
      "metadata": {
        "id": "U1NfoZD6vW_m"
      },
      "execution_count": 79,
      "outputs": []
    },
    {
      "cell_type": "code",
      "source": [
        "class Bandit:\n",
        "  def __init__(self, p):\n",
        "    self.p = p\n",
        "    self.p_estimate = 0.\n",
        "    self.N = 0.\n",
        "  \n",
        "  def pull(self):\n",
        "    # Pulling the bandit for once\n",
        "    return np.random.random() < self.p\n",
        "  \n",
        "  def update(self, x):\n",
        "    self.p_estimate = ((self.p_estimate * self.N) + x) / (self.N + 1)\n",
        "    self.N += 1"
      ],
      "metadata": {
        "id": "KKoNOoDIvtzl"
      },
      "execution_count": 80,
      "outputs": []
    },
    {
      "cell_type": "code",
      "source": [
        "def ucb(mean, n, nj):\n",
        "  return mean + np.sqrt((2*np.log(n)) / nj)"
      ],
      "metadata": {
        "id": "257rzREnwfet"
      },
      "execution_count": 81,
      "outputs": []
    },
    {
      "cell_type": "code",
      "source": [
        "def experiment():\n",
        "  bandits = [Bandit(p) for p in BANDIT_PROBABILITIES]\n",
        "  rewards = np.zeros(NUM_TRIALS)\n",
        "  total_played_times = 0\n",
        "\n",
        "  # initialization -> play each bandit once\n",
        "  for j in range(len(bandits)):\n",
        "    x = bandits[j].pull()\n",
        "    total_played_times += 1\n",
        "    bandits[j].update(x)\n",
        "\n",
        "  # Play NUM_TRIALS time\n",
        "  for i in range(NUM_TRIALS):\n",
        "    j = np.argmax([ucb(b.p_estimate, total_played_times, b.N) for b in bandits])\n",
        "    x = bandits[j].pull()\n",
        "    total_played_times += 1\n",
        "    bandits[j].update(x)\n",
        "\n",
        "    # Update the rewards list\n",
        "    rewards[i] = x\n",
        "  \n",
        "  cumulative_average = np.cumsum(rewards) / (np.arange(NUM_TRIALS) + 1)\n",
        "\n",
        "  # plot moving average ctr\n",
        "  plt.plot(cumulative_average)\n",
        "  plt.plot(np.ones(NUM_TRIALS)*np.max(BANDIT_PROBABILITIES))\n",
        "  plt.xscale('log')\n",
        "  plt.show()\n",
        "\n",
        "  # plot moving average ctr linear\n",
        "  plt.plot(cumulative_average)\n",
        "  plt.plot(np.ones(NUM_TRIALS)*np.max(BANDIT_PROBABILITIES))\n",
        "  plt.show()\n",
        "\n",
        "  for b in bandits:\n",
        "    print(b.p_estimate)\n",
        "\n",
        "  print(\"total reward earned:\", rewards.sum())\n",
        "  print(\"overall win rate:\", rewards.sum() / NUM_TRIALS)\n",
        "  print(\"num times selected each bandit:\", [b.N for b in bandits])\n",
        "\n",
        " \n"
      ],
      "metadata": {
        "id": "GjJsG1k6xldH"
      },
      "execution_count": 82,
      "outputs": []
    },
    {
      "cell_type": "code",
      "source": [
        "experiment()"
      ],
      "metadata": {
        "colab": {
          "base_uri": "https://localhost:8080/",
          "height": 621
        },
        "id": "UH2lF4p0zniA",
        "outputId": "115db4d8-64f8-4074-d92c-155478d16663"
      },
      "execution_count": 83,
      "outputs": [
        {
          "output_type": "display_data",
          "data": {
            "text/plain": [
              "<Figure size 432x288 with 1 Axes>"
            ],
            "image/png": "[encoded data removed]"
          },
          "metadata": {
            "needs_background": "light"
          }
        },
        {
          "output_type": "display_data",
          "data": {
            "text/plain": [
              "<Figure size 432x288 with 1 Axes>"
            ],
            "image/png": "[encoded data removed]"
          },
          "metadata": {
            "needs_background": "light"
          }
        },
        {
          "output_type": "stream",
          "name": "stdout",
          "text": [
            "0.14705882352941177\n",
            "0.800632911392406\n",
            "0.8363123236124177\n",
            "total reward earned: 8250.0\n",
            "overall win rate: 0.825\n",
            "num times selected each bandit: [34.0, 2528.0, 7441.0]\n"
          ]
        }
      ]
    },
    {
      "cell_type": "code",
      "source": [
        ""
      ],
      "metadata": {
        "id": "beImR-d6xbhr"
      },
      "execution_count": null,
      "outputs": []
    }
  ]
}
