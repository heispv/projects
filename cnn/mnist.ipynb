{
  "nbformat": 4,
  "nbformat_minor": 0,
  "metadata": {
    "colab": {
      "name": "Untitled6.ipynb",
      "provenance": [],
      "collapsed_sections": [],
      "toc_visible": true,
      "authorship_tag": "ABX9TyO0wZU3qeVwcq2jsqZfOR/h"
    },
    "kernelspec": {
      "name": "python3",
      "display_name": "Python 3"
    },
    "language_info": {
      "name": "python"
    },
    "accelerator": "GPU"
  },
  "cells": [
    {
      "cell_type": "markdown",
      "source": [
        "# Handwritten Digit Recognition using CNN\n",
        "\n",
        "MNIST dataset from `keras` has been used for this model"
      ],
      "metadata": {
        "id": "iGZKy-w6JrWJ"
      }
    },
    {
      "cell_type": "code",
      "source": [
        "# Importing the libraries which are going to be used\n",
        "import tensorflow as tf\n",
        "import numpy as np\n",
        "import matplotlib.pyplot as plt\n",
        "import random\n",
        "import pandas as pd"
      ],
      "metadata": {
        "id": "KA3rgenGKMq9"
      },
      "execution_count": 1,
      "outputs": []
    },
    {
      "cell_type": "markdown",
      "source": [
        "## Data visualization and preprocessing\n",
        "\n",
        "In this part we're going to visualize our data to know more about the data which we're going to work with."
      ],
      "metadata": {
        "id": "JMEagzVPLCpl"
      }
    },
    {
      "cell_type": "code",
      "source": [
        "# Loading MNIST dataset\n",
        "(x_train, y_train), (x_test, y_test) = tf.keras.datasets.mnist.load_data()"
      ],
      "metadata": {
        "id": "fwQgfStmLWUH"
      },
      "execution_count": 15,
      "outputs": []
    },
    {
      "cell_type": "code",
      "source": [
        "# Creating a function to visualize a random example from the given data\n",
        "def show_random_example(images, labels):\n",
        "  \"\"\"By giving a images and their corresponding labels\n",
        "   you would get 9 random of them\"\"\"\n",
        "  random_idx = random.sample(range(len(images)), 9)\n",
        "  random_images = [images[i] for i in random_idx]\n",
        "  random_labels = [labels[i] for i in random_idx]\n",
        "\n",
        "  plt.figure(figsize=(7, 8))\n",
        "  for i in range(9):\n",
        "    plt.subplot(3, 3, i+1)\n",
        "    plt.imshow(random_images[i], cmap='gist_gray')\n",
        "    plt.title(f\"label= {random_labels[i]}\")\n",
        "    plt.axis(\"off\")\n",
        "    "
      ],
      "metadata": {
        "id": "UPUmdRkEL4Xm"
      },
      "execution_count": 16,
      "outputs": []
    },
    {
      "cell_type": "code",
      "source": [
        "# Vizualize the data\n",
        "show_random_example(images=x_train,\n",
        "                    labels=y_train)"
      ],
      "metadata": {
        "colab": {
          "base_uri": "https://localhost:8080/",
          "height": 469
        },
        "id": "jTeksivzSd5N",
        "outputId": "d69af08c-3d0d-4c04-aa94-c477a764f753"
      },
      "execution_count": 17,
      "outputs": [
        {
          "output_type": "display_data",
          "data": {
            "text/plain": [
              "<Figure size 504x576 with 9 Axes>"
            ],
            "image/png": "[encoded data removed]"
          },
          "metadata": {
            "needs_background": "light"
          }
        }
      ]
    },
    {
      "cell_type": "code",
      "source": [
        "# Adding extra dimension to the inputs\n",
        "x_train = np.expand_dims(x_train, axis=-1)\n",
        "x_test = np.expand_dims(x_test, axis=-1)"
      ],
      "metadata": {
        "id": "O6g808QJ4I8e"
      },
      "execution_count": 18,
      "outputs": []
    },
    {
      "cell_type": "code",
      "source": [
        "# Normalizing the inputs\n",
        "x_train_norm = x_train / 255.0\n",
        "x_test_norm = x_test / 255.0"
      ],
      "metadata": {
        "id": "uunofe4nu0oo"
      },
      "execution_count": 20,
      "outputs": []
    },
    {
      "cell_type": "code",
      "source": [
        "# Using keras API to one hot encode the labels\n",
        "y_train_one_hot = tf.keras.utils.to_categorical(y_train, num_classes=10)\n",
        "y_test_one_hot = tf.keras.utils.to_categorical(y_test, num_classes=10)"
      ],
      "metadata": {
        "id": "MNmPit_erPbA"
      },
      "execution_count": 21,
      "outputs": []
    },
    {
      "cell_type": "markdown",
      "source": [
        "## Creating and training the model"
      ],
      "metadata": {
        "id": "hofHp6Eyva5P"
      }
    },
    {
      "cell_type": "code",
      "source": [
        "# Constants\n",
        "input_shape = x_train_norm[0].shape\n",
        "batch_size = 32"
      ],
      "metadata": {
        "id": "p5mmQmDvxNJv"
      },
      "execution_count": 22,
      "outputs": []
    },
    {
      "cell_type": "code",
      "source": [
        "# Creating the model\n",
        "model = tf.keras.Sequential([\n",
        "  tf.keras.layers.Conv2D(filters=4,\n",
        "                         kernel_size=3,\n",
        "                         strides=1,\n",
        "                         activation='relu',\n",
        "                         input_shape=input_shape),\n",
        "  tf.keras.layers.Conv2D(4, 1, activation='relu'),\n",
        "  tf.keras.layers.MaxPool2D(),\n",
        "  tf.keras.layers.BatchNormalization(),\n",
        "\n",
        "  tf.keras.layers.Conv2D(16, 2, 1, activation='relu'),\n",
        "  tf.keras.layers.Conv2D(16, 2, 1, activation='relu'),\n",
        "  tf.keras.layers.MaxPool2D(),\n",
        "  tf.keras.layers.BatchNormalization(),\n",
        "\n",
        "  tf.keras.layers.Conv2D(32, 2, 1, activation='relu'),\n",
        "  tf.keras.layers.Conv2D(32, 2, 1, activation='relu'),\n",
        "  tf.keras.layers.MaxPool2D(),\n",
        "  tf.keras.layers.BatchNormalization(),\n",
        "\n",
        "  tf.keras.layers.Flatten(),\n",
        "  tf.keras.layers.Dense(20, activation='relu'),\n",
        "  tf.keras.layers.Dense(10, activation='softmax')\n",
        "])\n"
      ],
      "metadata": {
        "id": "CKR2BmESw4sP"
      },
      "execution_count": 23,
      "outputs": []
    },
    {
      "cell_type": "code",
      "source": [
        "# Adding callbacks\n",
        "\n",
        "es = tf.keras.callbacks.EarlyStopping(\n",
        "        monitor=\"val_accuracy\", \n",
        "        patience=10,\n",
        "        verbose=1,\n",
        "        mode=\"max\",\n",
        "        restore_best_weights=True,\n",
        "     )\n",
        "\n",
        "rp = tf.keras.callbacks.ReduceLROnPlateau(\n",
        "        monitor=\"val_accuracy\",\n",
        "        factor=0.2,\n",
        "        patience=3,\n",
        "        verbose=1,\n",
        "        mode=\"max\",\n",
        "        min_lr=0.00001,\n",
        "     )"
      ],
      "metadata": {
        "id": "p9fmKH2OT7nB"
      },
      "execution_count": 24,
      "outputs": []
    },
    {
      "cell_type": "code",
      "source": [
        "# Compiling the model\n",
        "model.compile(loss=tf.keras.losses.CategoricalCrossentropy(),\n",
        "              optimizer=tf.keras.optimizers.Adam(),\n",
        "              metrics=['accuracy']\n",
        "              )\n",
        "\n",
        "# Fitting data to the model\n",
        "history = model.fit(x=x_train_norm,\n",
        "                    y=y_train_one_hot,\n",
        "                    epochs=100,\n",
        "                    batch_size=batch_size,\n",
        "                    validation_data=(x_test_norm, y_test_one_hot),\n",
        "                    validation_batch_size=batch_size,\n",
        "                    callbacks=[es, rp]\n",
        "                    )"
      ],
      "metadata": {
        "colab": {
          "base_uri": "https://localhost:8080/"
        },
        "id": "M-fVYKbh0Trd",
        "outputId": "54a0740f-b8ba-49cc-d823-64a4c8c233d9"
      },
      "execution_count": 25,
      "outputs": [
        {
          "output_type": "stream",
          "name": "stdout",
          "text": [
            "Epoch 1/100\n",
            "1875/1875 [==============================] - 20s 5ms/step - loss: 0.3453 - accuracy: 0.8961 - val_loss: 0.2114 - val_accuracy: 0.9355 - lr: 0.0010\n",
            "Epoch 2/100\n",
            "1875/1875 [==============================] - 9s 5ms/step - loss: 0.1244 - accuracy: 0.9624 - val_loss: 0.0916 - val_accuracy: 0.9738 - lr: 0.0010\n",
            "Epoch 3/100\n",
            "1875/1875 [==============================] - 9s 5ms/step - loss: 0.0945 - accuracy: 0.9706 - val_loss: 0.0763 - val_accuracy: 0.9773 - lr: 0.0010\n",
            "Epoch 4/100\n",
            "1875/1875 [==============================] - 10s 5ms/step - loss: 0.0799 - accuracy: 0.9750 - val_loss: 0.0657 - val_accuracy: 0.9799 - lr: 0.0010\n",
            "Epoch 5/100\n",
            "1875/1875 [==============================] - 9s 5ms/step - loss: 0.0706 - accuracy: 0.9780 - val_loss: 0.0705 - val_accuracy: 0.9782 - lr: 0.0010\n",
            "Epoch 6/100\n",
            "1875/1875 [==============================] - 8s 4ms/step - loss: 0.0627 - accuracy: 0.9806 - val_loss: 0.0739 - val_accuracy: 0.9776 - lr: 0.0010\n",
            "Epoch 7/100\n",
            "1875/1875 [==============================] - 9s 5ms/step - loss: 0.0572 - accuracy: 0.9818 - val_loss: 0.0623 - val_accuracy: 0.9810 - lr: 0.0010\n",
            "Epoch 8/100\n",
            "1875/1875 [==============================] - 8s 4ms/step - loss: 0.0537 - accuracy: 0.9830 - val_loss: 0.0586 - val_accuracy: 0.9832 - lr: 0.0010\n",
            "Epoch 9/100\n",
            "1875/1875 [==============================] - 8s 5ms/step - loss: 0.0489 - accuracy: 0.9842 - val_loss: 0.0572 - val_accuracy: 0.9827 - lr: 0.0010\n",
            "Epoch 10/100\n",
            "1875/1875 [==============================] - 9s 5ms/step - loss: 0.0462 - accuracy: 0.9851 - val_loss: 0.0543 - val_accuracy: 0.9839 - lr: 0.0010\n",
            "Epoch 11/100\n",
            "1875/1875 [==============================] - 8s 4ms/step - loss: 0.0447 - accuracy: 0.9855 - val_loss: 0.0639 - val_accuracy: 0.9802 - lr: 0.0010\n",
            "Epoch 12/100\n",
            "1875/1875 [==============================] - 8s 4ms/step - loss: 0.0423 - accuracy: 0.9864 - val_loss: 0.0524 - val_accuracy: 0.9853 - lr: 0.0010\n",
            "Epoch 13/100\n",
            "1875/1875 [==============================] - 9s 5ms/step - loss: 0.0384 - accuracy: 0.9875 - val_loss: 0.0475 - val_accuracy: 0.9865 - lr: 0.0010\n",
            "Epoch 14/100\n",
            "1875/1875 [==============================] - 8s 4ms/step - loss: 0.0375 - accuracy: 0.9877 - val_loss: 0.0498 - val_accuracy: 0.9853 - lr: 0.0010\n",
            "Epoch 15/100\n",
            "1875/1875 [==============================] - 9s 5ms/step - loss: 0.0358 - accuracy: 0.9886 - val_loss: 0.0536 - val_accuracy: 0.9844 - lr: 0.0010\n",
            "Epoch 16/100\n",
            "1865/1875 [============================>.] - ETA: 0s - loss: 0.0345 - accuracy: 0.9883\n",
            "Epoch 16: ReduceLROnPlateau reducing learning rate to 0.00020000000949949026.\n",
            "1875/1875 [==============================] - 9s 5ms/step - loss: 0.0346 - accuracy: 0.9883 - val_loss: 0.0472 - val_accuracy: 0.9858 - lr: 0.0010\n",
            "Epoch 17/100\n",
            "1875/1875 [==============================] - 8s 5ms/step - loss: 0.0225 - accuracy: 0.9927 - val_loss: 0.0415 - val_accuracy: 0.9871 - lr: 2.0000e-04\n",
            "Epoch 18/100\n",
            "1875/1875 [==============================] - 9s 5ms/step - loss: 0.0198 - accuracy: 0.9937 - val_loss: 0.0407 - val_accuracy: 0.9884 - lr: 2.0000e-04\n",
            "Epoch 19/100\n",
            "1875/1875 [==============================] - 9s 5ms/step - loss: 0.0177 - accuracy: 0.9944 - val_loss: 0.0433 - val_accuracy: 0.9883 - lr: 2.0000e-04\n",
            "Epoch 20/100\n",
            "1875/1875 [==============================] - 8s 4ms/step - loss: 0.0167 - accuracy: 0.9947 - val_loss: 0.0424 - val_accuracy: 0.9878 - lr: 2.0000e-04\n",
            "Epoch 21/100\n",
            "1871/1875 [============================>.] - ETA: 0s - loss: 0.0159 - accuracy: 0.9950\n",
            "Epoch 21: ReduceLROnPlateau reducing learning rate to 4.0000001899898055e-05.\n",
            "1875/1875 [==============================] - 9s 5ms/step - loss: 0.0159 - accuracy: 0.9950 - val_loss: 0.0434 - val_accuracy: 0.9878 - lr: 2.0000e-04\n",
            "Epoch 22/100\n",
            "1875/1875 [==============================] - 9s 5ms/step - loss: 0.0127 - accuracy: 0.9962 - val_loss: 0.0431 - val_accuracy: 0.9879 - lr: 4.0000e-05\n",
            "Epoch 23/100\n",
            "1875/1875 [==============================] - 9s 5ms/step - loss: 0.0130 - accuracy: 0.9961 - val_loss: 0.0424 - val_accuracy: 0.9881 - lr: 4.0000e-05\n",
            "Epoch 24/100\n",
            "1874/1875 [============================>.] - ETA: 0s - loss: 0.0127 - accuracy: 0.9958\n",
            "Epoch 24: ReduceLROnPlateau reducing learning rate to 1e-05.\n",
            "1875/1875 [==============================] - 8s 4ms/step - loss: 0.0127 - accuracy: 0.9958 - val_loss: 0.0429 - val_accuracy: 0.9872 - lr: 4.0000e-05\n",
            "Epoch 25/100\n",
            "1875/1875 [==============================] - 9s 5ms/step - loss: 0.0122 - accuracy: 0.9964 - val_loss: 0.0432 - val_accuracy: 0.9873 - lr: 1.0000e-05\n",
            "Epoch 26/100\n",
            "1875/1875 [==============================] - 8s 4ms/step - loss: 0.0121 - accuracy: 0.9961 - val_loss: 0.0426 - val_accuracy: 0.9874 - lr: 1.0000e-05\n",
            "Epoch 27/100\n",
            "1875/1875 [==============================] - 8s 5ms/step - loss: 0.0121 - accuracy: 0.9961 - val_loss: 0.0430 - val_accuracy: 0.9874 - lr: 1.0000e-05\n",
            "Epoch 28/100\n",
            "1869/1875 [============================>.] - ETA: 0s - loss: 0.0118 - accuracy: 0.9961Restoring model weights from the end of the best epoch: 18.\n",
            "1875/1875 [==============================] - 8s 4ms/step - loss: 0.0118 - accuracy: 0.9961 - val_loss: 0.0431 - val_accuracy: 0.9874 - lr: 1.0000e-05\n",
            "Epoch 28: early stopping\n"
          ]
        }
      ]
    },
    {
      "cell_type": "markdown",
      "source": [
        "## Error analysis"
      ],
      "metadata": {
        "id": "WCjhHGztyJ7k"
      }
    },
    {
      "cell_type": "code",
      "source": [
        "# Saving data from history into a pandas dataframe\n",
        "val_acc = pd.DataFrame(history.history['val_accuracy'])\n",
        "train_acc = pd.DataFrame(history.history['accuracy'])\n",
        "val_loss = pd.DataFrame(history.history['val_loss'])\n",
        "train_loss = pd.DataFrame(history.history['loss'])\n",
        "\n",
        "# Plotting accuracy and loss curves\n",
        "plt.figure(figsize=(12, 12));\n",
        "\n",
        "plt.subplot(2, 1, 1)\n",
        "plt.plot(val_acc)\n",
        "plt.plot(train_acc)\n",
        "plt.legend([\"val_acc\", \"train_acc\"])\n",
        "plt.title(\"Accuracy per epoch\")\n",
        "\n",
        "plt.subplot(2, 1, 2)\n",
        "plt.plot(val_loss)\n",
        "plt.plot(train_loss)\n",
        "plt.legend([\"val_loss\", \"train_loss\"])\n",
        "plt.title(\"Loss per epoch\")"
      ],
      "metadata": {
        "colab": {
          "base_uri": "https://localhost:8080/",
          "height": 733
        },
        "id": "tBd-z85QXKHh",
        "outputId": "a815a308-2498-4edd-8913-382bf16d83be"
      },
      "execution_count": 26,
      "outputs": [
        {
          "output_type": "execute_result",
          "data": {
            "text/plain": [
              "Text(0.5, 1.0, 'Loss per epoch')"
            ]
          },
          "metadata": {},
          "execution_count": 26
        },
        {
          "output_type": "display_data",
          "data": {
            "text/plain": [
              "<Figure size 864x864 with 2 Axes>"
            ],
            "image/png": "[encoded data removed]"
          },
          "metadata": {
            "needs_background": "light"
          }
        }
      ]
    },
    {
      "cell_type": "code",
      "source": [
        "# Evaluating the model\n",
        "print(\"Evaluating...\")\n",
        "results = model.evaluate(x_test_norm, y_test_one_hot, verbose=0)\n",
        "print(\"Loss on x_test_norm: %.4f\" % results[0])\n",
        "print(\"Accuracy on x_test_norm: %.4f\" % results[1])"
      ],
      "metadata": {
        "colab": {
          "base_uri": "https://localhost:8080/"
        },
        "id": "BRqZaJ6pnwB3",
        "outputId": "6f92c695-0989-4fc8-f1c6-654cd90d0618"
      },
      "execution_count": 37,
      "outputs": [
        {
          "output_type": "stream",
          "name": "stdout",
          "text": [
            "Evaluating...\n",
            "Loss on x_test_norm: 0.0407\n",
            "Accuracy on x_test_norm: 0.9884\n"
          ]
        }
      ]
    }
  ]
}
